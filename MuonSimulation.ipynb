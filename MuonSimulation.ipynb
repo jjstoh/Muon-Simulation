{
 "cells": [
  {
   "cell_type": "code",
   "execution_count": 2,
   "metadata": {},
   "outputs": [
    {
     "data": {
      "application/javascript": [
       "if (typeof Jupyter !== \"undefined\") {require.undef(\"nbextensions/vpython_libraries/glow.min\");}else{element.textContent = ' ';}"
      ],
      "text/plain": [
       "<IPython.core.display.Javascript object>"
      ]
     },
     "metadata": {},
     "output_type": "display_data"
    },
    {
     "data": {
      "application/javascript": [
       "if (typeof Jupyter !== \"undefined\") {require.undef(\"nbextensions/vpython_libraries/glowcomm\");}else{element.textContent = ' ';}"
      ],
      "text/plain": [
       "<IPython.core.display.Javascript object>"
      ]
     },
     "metadata": {},
     "output_type": "display_data"
    },
    {
     "data": {
      "application/javascript": [
       "if (typeof Jupyter !== \"undefined\") {require.undef(\"nbextensions/vpython_libraries/jquery-ui.custom.min\");}else{element.textContent = ' ';}"
      ],
      "text/plain": [
       "<IPython.core.display.Javascript object>"
      ]
     },
     "metadata": {},
     "output_type": "display_data"
    },
    {
     "data": {
      "application/javascript": [
       "if (typeof Jupyter !== \"undefined\") {require([\"nbextensions/vpython_libraries/glow.min\"], function(){console.log(\"GLOW LOADED\");});}else{element.textContent = ' ';}"
      ],
      "text/plain": [
       "<IPython.core.display.Javascript object>"
      ]
     },
     "metadata": {},
     "output_type": "display_data"
    },
    {
     "data": {
      "application/javascript": [
       "if (typeof Jupyter !== \"undefined\") {require([\"nbextensions/vpython_libraries/glowcomm\"], function(){console.log(\"GLOWCOMM LOADED\");});}else{element.textContent = ' ';}"
      ],
      "text/plain": [
       "<IPython.core.display.Javascript object>"
      ]
     },
     "metadata": {},
     "output_type": "display_data"
    },
    {
     "data": {
      "application/javascript": [
       "if (typeof Jupyter !== \"undefined\") {require([\"nbextensions/vpython_libraries/jquery-ui.custom.min\"], function(){console.log(\"JQUERY LOADED\");});}else{element.textContent = ' ';}"
      ],
      "text/plain": [
       "<IPython.core.display.Javascript object>"
      ]
     },
     "metadata": {},
     "output_type": "display_data"
    },
    {
     "data": {
      "text/html": [
       "<div id=\"glowscript\" class=\"glowscript\"></div>"
      ],
      "text/plain": [
       "<IPython.core.display.HTML object>"
      ]
     },
     "metadata": {},
     "output_type": "display_data"
    },
    {
     "data": {
      "application/javascript": [
       "if (typeof Jupyter !== \"undefined\") { window.__context = { glowscript_container: $(\"#glowscript\").removeAttr(\"id\")};}else{ element.textContent = ' ';}"
      ],
      "text/plain": [
       "<IPython.core.display.Javascript object>"
      ]
     },
     "metadata": {},
     "output_type": "display_data"
    }
   ],
   "source": [
    "import numpy as np\n",
    "import matplotlib.pyplot as plt\n",
    "from vpython import sphere, color, vector, arrow, canvas, cylinder\n",
    "import random\n",
    "import scipy.stats as stats\n",
    "\n",
    "%matplotlib notebook"
   ]
  },
  {
   "cell_type": "code",
   "execution_count": null,
   "metadata": {},
   "outputs": [],
   "source": [
    "def generatePosition():\n",
    "    \"\"\"\n",
    "    \"\"\"\n",
    "    \n",
    "    r = 15000 #Size of radius\n",
    "    phi = np.radians(90*np.random.random_sample()) #Phi angle between x-y plane and z\n",
    "    theta = np.radians(360*np.random.random_sample()) #Theta angle between x and y\n",
    "    x = r*np.sin(phi)*np.cos(theta)\n",
    "    y = r*np.sin(phi)*np.sin(theta)\n",
    "    z = abs(r*np.cos(phi)) #Abs to ensure hemisphere (only positive z)\n",
    "    loc = [x,y,z] #Location of muon\n",
    "    distance = np.sqrt((x**2)+(y**2)+(z**2))\n",
    "    return phi\n",
    "\n",
    "def generateDirection():\n",
    "    \"\"\"\n",
    "    \"\"\"\n",
    "    \n",
    "    alpha = random.uniform(-0.075,0.075)\n",
    "    loc = generatePosition()\n",
    "    beta = loc[0]"
   ]
  },
  {
   "cell_type": "code",
   "execution_count": 3,
   "metadata": {},
   "outputs": [
    {
     "name": "stdout",
     "output_type": "stream",
     "text": [
      "\n",
      "Mean ratio: 0.5244483671776864 \n",
      "Standard Deviation: 0.010973307260876622 \n",
      "Error: 0.0004907412194662429\n"
     ]
    },
    {
     "data": {
      "image/png": "[encoded data removed]",
      "text/plain": [
       "<Figure size 432x288 with 1 Axes>"
      ]
     },
     "metadata": {
      "needs_background": "light"
     },
     "output_type": "display_data"
    }
   ],
   "source": [
    "#PMT data\n",
    "radius = 0.075\n",
    "height = 0.125\n",
    "\n",
    "#Maximum angle elevated above x-y plane to hit side\n",
    "alpha = np.arctan(height/radius)\n",
    "\n",
    "numSteps = 500\n",
    "\n",
    "ratioArray = []\n",
    "\n",
    "for j in range(numSteps):\n",
    "    \n",
    "    positions = []\n",
    "    for i in range(10000):\n",
    "        positions.append(generatePosition())\n",
    "\n",
    "    top = 0\n",
    "    side = 0\n",
    "    for i in positions:\n",
    "        if i > alpha:\n",
    "            top += 1\n",
    "        else:\n",
    "            side += 1\n",
    "    \n",
    "    ratioArray.append(top/side)\n",
    "    \n",
    "gx = np.linspace(np.max(ratioArray),np.min(ratioArray),numSteps)    #Range over which Gaussian is fitted\n",
    "x0, sigma = stats.norm.fit(ratioArray)                                  #Mean and stdev for Gaussian\n",
    "gaussian = stats.norm.pdf(gx,x0,sigma)                           #Gaussian curve\n",
    "\n",
    "plt.figure()\n",
    "# 15 bins, normalized:\n",
    "plt.hist(ratioArray,bins=int(numSteps/10),density=True,edgecolor='k')                 #Plot histogram\n",
    "plt.plot(gx,gaussian,'r-', label=\"Gaussian Fit\")                 #Plot Gaussian fit\n",
    "plt.title(\"Distribution of top/side ratios collected from simulating 10000 muons\")\n",
    "plt.xlabel(\"Ratio of top:side collisions\")\n",
    "plt.ylabel(\"Occurences\") \n",
    "plt.legend(loc=\"best\");\n",
    "\n",
    "print(\"\\nMean ratio:\", x0, \"\\nStandard Deviation:\", sigma, \"\\nError:\", sigma/np.sqrt(numSteps))"
   ]
  }
 ],
 "metadata": {
  "kernelspec": {
   "display_name": "Python 3",
   "language": "python",
   "name": "python3"
  },
  "language_info": {
   "codemirror_mode": {
    "name": "ipython",
    "version": 3
   },
   "file_extension": ".py",
   "mimetype": "text/x-python",
   "name": "python",
   "nbconvert_exporter": "python",
   "pygments_lexer": "ipython3",
   "version": "3.6.8"
  }
 },
 "nbformat": 4,
 "nbformat_minor": 2
}
